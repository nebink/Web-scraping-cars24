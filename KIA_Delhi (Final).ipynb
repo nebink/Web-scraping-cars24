{
  "cells": [
    {
      "cell_type": "markdown",
      "metadata": {},
      "source": [
        "# Web scraping from KIA cars in Delhi"
      ]
    },
    {
      "cell_type": "code",
      "execution_count": 2,
      "metadata": {
        "id": "RRi2W_xz9rJW"
      },
      "outputs": [],
      "source": [
        "from selenium import webdriver\n",
        "from selenium.webdriver.common.keys import Keys\n",
        "import time\n",
        "from bs4 import BeautifulSoup\n",
        "import pandas as pd\n",
        "\n",
        "# Setup Selenium WebDriver\n",
        "driver = webdriver.Chrome() # To initialize the Chrome WebDriver\n",
        "driver.get('https://www.cars24.com/buy-used-car?f=make%3A%3D%3Akia&sort=bestmatch&serveWarrantyCount=true&storeCityId=2')\n",
        "\n",
        "driver.execute_script(\"window.scrollTo(0, document.body.scrollHeight);\")\n",
        "time.sleep(5)\n",
        "\n",
        "page_source = driver.page_source # Get the page source\n",
        "driver.quit()"
      ]
    },
    {
      "cell_type": "code",
      "execution_count": 34,
      "metadata": {},
      "outputs": [
        {
          "data": {
            "text/plain": [
              "32"
            ]
          },
          "execution_count": 34,
          "metadata": {},
          "output_type": "execute_result"
        }
      ],
      "source": [
        "soup = BeautifulSoup(page_source, 'html.parser')\n",
        "results = soup.find_all('a', {'class': 'IIJDn'})\n",
        "cars_data = []\n",
        "len(results)"
      ]
    },
    {
      "cell_type": "code",
      "execution_count": 7,
      "metadata": {},
      "outputs": [],
      "source": [
        "# Loop through each listing to extract details\n",
        "for result in results:\n",
        "    name = result.find('h3').get_text()\n",
        "    year_manufacture = result.find('h3').text.split()[0]\n",
        "    km_driven = result.find('li').text\n",
        "    specs = result.find('ul').find_all('li')\n",
        "    fuel_type = specs[2].text\n",
        "    transmission_type = specs[4].text\n",
        "    price = result.find('strong').text\n",
        "\n",
        "    # Append the car data to the list\n",
        "    cars_data.append({\n",
        "        'Name': name,\n",
        "        'Year of Manufacture': year_manufacture,\n",
        "        'Kilometers Driven': km_driven,\n",
        "        'Fuel Type': fuel_type,\n",
        "        'Transmission': transmission_type,\n",
        "        'Price': price\n",
        "    })\n",
        "\n",
        "# Convert the list to a DataFrame\n",
        "df_cars = pd.DataFrame(cars_data)"
      ]
    },
    {
      "cell_type": "code",
      "execution_count": 8,
      "metadata": {},
      "outputs": [
        {
          "name": "stdout",
          "output_type": "stream",
          "text": [
            "Data scraped and saved to 'Cars24.csv' successfully.\n"
          ]
        }
      ],
      "source": [
        "# Save the DataFrame to a CSV file\n",
        "csv_file_path = 'Cars24.csv'\n",
        "df_cars.to_csv(csv_file_path, index=False)\n",
        "\n",
        "print(f\"Data scraped and saved to '{csv_file_path}' successfully.\")"
      ]
    },
    {
      "cell_type": "markdown",
      "metadata": {},
      "source": [
        "# Data Analysis & Visualization"
      ]
    },
    {
      "cell_type": "code",
      "execution_count": 9,
      "metadata": {},
      "outputs": [],
      "source": [
        "import pandas as pd\n",
        "import numpy as np\n",
        "import seaborn as sns\n",
        "import matplotlib.pyplot as plt"
      ]
    },
    {
      "cell_type": "code",
      "execution_count": 10,
      "metadata": {},
      "outputs": [],
      "source": [
        "df = pd.read_csv(\"Cars24.csv\")"
      ]
    },
    {
      "cell_type": "code",
      "execution_count": 11,
      "metadata": {},
      "outputs": [
        {
          "data": {
            "text/html": [
              "<div>\n",
              "<style scoped>\n",
              "    .dataframe tbody tr th:only-of-type {\n",
              "        vertical-align: middle;\n",
              "    }\n",
              "\n",
              "    .dataframe tbody tr th {\n",
              "        vertical-align: top;\n",
              "    }\n",
              "\n",
              "    .dataframe thead th {\n",
              "        text-align: right;\n",
              "    }\n",
              "</style>\n",
              "<table border=\"1\" class=\"dataframe\">\n",
              "  <thead>\n",
              "    <tr style=\"text-align: right;\">\n",
              "      <th></th>\n",
              "      <th>Name</th>\n",
              "      <th>Year of Manufacture</th>\n",
              "      <th>Kilometers Driven</th>\n",
              "      <th>Fuel Type</th>\n",
              "      <th>Transmission</th>\n",
              "      <th>Price</th>\n",
              "    </tr>\n",
              "  </thead>\n",
              "  <tbody>\n",
              "    <tr>\n",
              "      <th>0</th>\n",
              "      <td>2021 KIA SELTOS HTK PLUS 1.5</td>\n",
              "      <td>2021</td>\n",
              "      <td>30,964 km</td>\n",
              "      <td>Petrol</td>\n",
              "      <td>Manual</td>\n",
              "      <td>₹10.02 Lakh</td>\n",
              "    </tr>\n",
              "    <tr>\n",
              "      <th>1</th>\n",
              "      <td>2022 KIA SELTOS HTE 1.5 DIESEL</td>\n",
              "      <td>2022</td>\n",
              "      <td>36,166 km</td>\n",
              "      <td>Diesel</td>\n",
              "      <td>Manual</td>\n",
              "      <td>₹11.03 Lakh</td>\n",
              "    </tr>\n",
              "    <tr>\n",
              "      <th>2</th>\n",
              "      <td>2019 KIA SELTOS HTK PLUS 1.5</td>\n",
              "      <td>2019</td>\n",
              "      <td>27,143 km</td>\n",
              "      <td>Petrol</td>\n",
              "      <td>Manual</td>\n",
              "      <td>₹10.07 Lakh</td>\n",
              "    </tr>\n",
              "    <tr>\n",
              "      <th>3</th>\n",
              "      <td>2022 KIA SONET HTX 1.0 IMT</td>\n",
              "      <td>2022</td>\n",
              "      <td>9,526 km</td>\n",
              "      <td>Petrol</td>\n",
              "      <td>Manual</td>\n",
              "      <td>₹10.60 Lakh</td>\n",
              "    </tr>\n",
              "    <tr>\n",
              "      <th>4</th>\n",
              "      <td>2020 KIA SONET HTK PLUS 1.5</td>\n",
              "      <td>2020</td>\n",
              "      <td>35,537 km</td>\n",
              "      <td>Diesel</td>\n",
              "      <td>Manual</td>\n",
              "      <td>₹8.56 Lakh</td>\n",
              "    </tr>\n",
              "    <tr>\n",
              "      <th>5</th>\n",
              "      <td>2021 KIA SONET HTK PLUS 1.0 DCT</td>\n",
              "      <td>2021</td>\n",
              "      <td>27,310 km</td>\n",
              "      <td>Petrol</td>\n",
              "      <td>Automatic</td>\n",
              "      <td>₹9.75 Lakh</td>\n",
              "    </tr>\n",
              "    <tr>\n",
              "      <th>6</th>\n",
              "      <td>2020 KIA CARNIVAL PREMIUM 2.2 7 STR</td>\n",
              "      <td>2020</td>\n",
              "      <td>66,902 km</td>\n",
              "      <td>Diesel</td>\n",
              "      <td>Automatic</td>\n",
              "      <td>₹19.16 Lakh</td>\n",
              "    </tr>\n",
              "    <tr>\n",
              "      <th>7</th>\n",
              "      <td>2022 KIA SONET HTK PLUS 1.2</td>\n",
              "      <td>2022</td>\n",
              "      <td>12,265 km</td>\n",
              "      <td>Petrol</td>\n",
              "      <td>Manual</td>\n",
              "      <td>₹8.95 Lakh</td>\n",
              "    </tr>\n",
              "    <tr>\n",
              "      <th>8</th>\n",
              "      <td>2020 KIA SONET HTK PLUS 1.5</td>\n",
              "      <td>2020</td>\n",
              "      <td>67,883 km</td>\n",
              "      <td>Diesel</td>\n",
              "      <td>Manual</td>\n",
              "      <td>₹8.70 Lakh</td>\n",
              "    </tr>\n",
              "    <tr>\n",
              "      <th>9</th>\n",
              "      <td>2020 KIA SELTOS HTK PLUS AT 1.5 DIESEL</td>\n",
              "      <td>2020</td>\n",
              "      <td>82,433 km</td>\n",
              "      <td>Diesel</td>\n",
              "      <td>Automatic</td>\n",
              "      <td>₹10.36 Lakh</td>\n",
              "    </tr>\n",
              "    <tr>\n",
              "      <th>10</th>\n",
              "      <td>2019 KIA SELTOS GTX PLUS DCT 1.4 PETROL</td>\n",
              "      <td>2019</td>\n",
              "      <td>24,009 km</td>\n",
              "      <td>Petrol</td>\n",
              "      <td>Automatic</td>\n",
              "      <td>₹14.78 Lakh</td>\n",
              "    </tr>\n",
              "    <tr>\n",
              "      <th>11</th>\n",
              "      <td>2020 KIA SONET HTK PLUS 1.5</td>\n",
              "      <td>2020</td>\n",
              "      <td>64,930 km</td>\n",
              "      <td>Diesel</td>\n",
              "      <td>Manual</td>\n",
              "      <td>₹8.20 Lakh</td>\n",
              "    </tr>\n",
              "    <tr>\n",
              "      <th>12</th>\n",
              "      <td>2019 KIA SELTOS GTX 1.4 PETROL DUAL TONE</td>\n",
              "      <td>2019</td>\n",
              "      <td>11,707 km</td>\n",
              "      <td>Petrol</td>\n",
              "      <td>Manual</td>\n",
              "      <td>₹12.49 Lakh</td>\n",
              "    </tr>\n",
              "    <tr>\n",
              "      <th>13</th>\n",
              "      <td>2022 KIA SONET HTX 1.0 IMT</td>\n",
              "      <td>2022</td>\n",
              "      <td>29,811 km</td>\n",
              "      <td>Petrol</td>\n",
              "      <td>Manual</td>\n",
              "      <td>₹10.59 Lakh</td>\n",
              "    </tr>\n",
              "    <tr>\n",
              "      <th>14</th>\n",
              "      <td>2022 KIA SONET HTK 1.5</td>\n",
              "      <td>2022</td>\n",
              "      <td>23,502 km</td>\n",
              "      <td>Diesel</td>\n",
              "      <td>Manual</td>\n",
              "      <td>₹9.55 Lakh</td>\n",
              "    </tr>\n",
              "    <tr>\n",
              "      <th>15</th>\n",
              "      <td>2022 KIA SONET HTX 1.0 IMT</td>\n",
              "      <td>2022</td>\n",
              "      <td>36,545 km</td>\n",
              "      <td>Petrol</td>\n",
              "      <td>Manual</td>\n",
              "      <td>₹10.61 Lakh</td>\n",
              "    </tr>\n",
              "    <tr>\n",
              "      <th>16</th>\n",
              "      <td>2022 KIA SONET HTX 1.0 IMT</td>\n",
              "      <td>2022</td>\n",
              "      <td>20,224 km</td>\n",
              "      <td>Petrol</td>\n",
              "      <td>Manual</td>\n",
              "      <td>₹9.82 Lakh</td>\n",
              "    </tr>\n",
              "    <tr>\n",
              "      <th>17</th>\n",
              "      <td>2020 KIA SELTOS HTX PLUS AT1.5 DIESEL</td>\n",
              "      <td>2020</td>\n",
              "      <td>89,886 km</td>\n",
              "      <td>Diesel</td>\n",
              "      <td>Automatic</td>\n",
              "      <td>₹11.59 Lakh</td>\n",
              "    </tr>\n",
              "    <tr>\n",
              "      <th>18</th>\n",
              "      <td>2022 KIA CARENS LUXURY PLUS 1.4 PETROL 6 STR</td>\n",
              "      <td>2022</td>\n",
              "      <td>9,293 km</td>\n",
              "      <td>Petrol</td>\n",
              "      <td>Manual</td>\n",
              "      <td>₹13.64 Lakh</td>\n",
              "    </tr>\n",
              "    <tr>\n",
              "      <th>19</th>\n",
              "      <td>2022 KIA SELTOS HTX PETROL 1.5</td>\n",
              "      <td>2022</td>\n",
              "      <td>16,721 km</td>\n",
              "      <td>Petrol</td>\n",
              "      <td>Manual</td>\n",
              "      <td>₹14.36 Lakh</td>\n",
              "    </tr>\n",
              "    <tr>\n",
              "      <th>20</th>\n",
              "      <td>2019 KIA SELTOS GTX PLUS DCT 1.4 PETROL</td>\n",
              "      <td>2019</td>\n",
              "      <td>49,161 km</td>\n",
              "      <td>Petrol</td>\n",
              "      <td>Automatic</td>\n",
              "      <td>₹14.46 Lakh</td>\n",
              "    </tr>\n",
              "    <tr>\n",
              "      <th>21</th>\n",
              "      <td>2022 KIA CARENS LUXURY PLUS 1.5 DIESEL AT 6 STR</td>\n",
              "      <td>2022</td>\n",
              "      <td>23,444 km</td>\n",
              "      <td>Diesel</td>\n",
              "      <td>Automatic</td>\n",
              "      <td>₹15.54 Lakh</td>\n",
              "    </tr>\n",
              "    <tr>\n",
              "      <th>22</th>\n",
              "      <td>2022 KIA SONET GTX PLUS 1.0 IMT</td>\n",
              "      <td>2022</td>\n",
              "      <td>22,717 km</td>\n",
              "      <td>Petrol</td>\n",
              "      <td>Manual</td>\n",
              "      <td>₹11.96 Lakh</td>\n",
              "    </tr>\n",
              "    <tr>\n",
              "      <th>23</th>\n",
              "      <td>2021 KIA SELTOS HTX 1.5 PETROL</td>\n",
              "      <td>2021</td>\n",
              "      <td>9,184 km</td>\n",
              "      <td>Petrol</td>\n",
              "      <td>Manual</td>\n",
              "      <td>₹12.21 Lakh</td>\n",
              "    </tr>\n",
              "    <tr>\n",
              "      <th>24</th>\n",
              "      <td>2022 KIA CARENS LUXURY PLUS 1.4 PETROL DCT 6 STR</td>\n",
              "      <td>2022</td>\n",
              "      <td>32,364 km</td>\n",
              "      <td>Petrol</td>\n",
              "      <td>Automatic</td>\n",
              "      <td>₹15.29 Lakh</td>\n",
              "    </tr>\n",
              "    <tr>\n",
              "      <th>25</th>\n",
              "      <td>2022 KIA CARENS LUXURY PLUS 1.4 PETROL 6 STR</td>\n",
              "      <td>2022</td>\n",
              "      <td>13,171 km</td>\n",
              "      <td>Petrol</td>\n",
              "      <td>Manual</td>\n",
              "      <td>₹15.06 Lakh</td>\n",
              "    </tr>\n",
              "    <tr>\n",
              "      <th>26</th>\n",
              "      <td>2022 KIA CARENS LUXURY PLUS 1.4 PETROL 6 STR</td>\n",
              "      <td>2022</td>\n",
              "      <td>24,315 km</td>\n",
              "      <td>Petrol</td>\n",
              "      <td>Manual</td>\n",
              "      <td>₹16.09 Lakh</td>\n",
              "    </tr>\n",
              "    <tr>\n",
              "      <th>27</th>\n",
              "      <td>2022 KIA SELTOS HTK PLUS 1.5 IMT</td>\n",
              "      <td>2022</td>\n",
              "      <td>14,160 km</td>\n",
              "      <td>Petrol</td>\n",
              "      <td>Manual</td>\n",
              "      <td>₹12.84 Lakh</td>\n",
              "    </tr>\n",
              "    <tr>\n",
              "      <th>28</th>\n",
              "      <td>2023 KIA SONET HTK PLUS 1.2</td>\n",
              "      <td>2023</td>\n",
              "      <td>7,907 km</td>\n",
              "      <td>Petrol</td>\n",
              "      <td>Manual</td>\n",
              "      <td>₹9.64 Lakh</td>\n",
              "    </tr>\n",
              "    <tr>\n",
              "      <th>29</th>\n",
              "      <td>2022 KIA SONET HTX 1.0 IMT</td>\n",
              "      <td>2022</td>\n",
              "      <td>34,198 km</td>\n",
              "      <td>Petrol</td>\n",
              "      <td>Manual</td>\n",
              "      <td>₹10.27 Lakh</td>\n",
              "    </tr>\n",
              "    <tr>\n",
              "      <th>30</th>\n",
              "      <td>2020 KIA SONET HTK PLUS 1.0 IMT</td>\n",
              "      <td>2020</td>\n",
              "      <td>2,951 km</td>\n",
              "      <td>Petrol</td>\n",
              "      <td>Manual</td>\n",
              "      <td>₹8.51 Lakh</td>\n",
              "    </tr>\n",
              "    <tr>\n",
              "      <th>31</th>\n",
              "      <td>2020 KIA SONET GTX PLUS 1.5</td>\n",
              "      <td>2020</td>\n",
              "      <td>49,820 km</td>\n",
              "      <td>Diesel</td>\n",
              "      <td>Manual</td>\n",
              "      <td>₹10.48 Lakh</td>\n",
              "    </tr>\n",
              "  </tbody>\n",
              "</table>\n",
              "</div>"
            ],
            "text/plain": [
              "                                                Name  Year of Manufacture  \\\n",
              "0                       2021 KIA SELTOS HTK PLUS 1.5                 2021   \n",
              "1                     2022 KIA SELTOS HTE 1.5 DIESEL                 2022   \n",
              "2                       2019 KIA SELTOS HTK PLUS 1.5                 2019   \n",
              "3                         2022 KIA SONET HTX 1.0 IMT                 2022   \n",
              "4                        2020 KIA SONET HTK PLUS 1.5                 2020   \n",
              "5                    2021 KIA SONET HTK PLUS 1.0 DCT                 2021   \n",
              "6                2020 KIA CARNIVAL PREMIUM 2.2 7 STR                 2020   \n",
              "7                        2022 KIA SONET HTK PLUS 1.2                 2022   \n",
              "8                        2020 KIA SONET HTK PLUS 1.5                 2020   \n",
              "9             2020 KIA SELTOS HTK PLUS AT 1.5 DIESEL                 2020   \n",
              "10           2019 KIA SELTOS GTX PLUS DCT 1.4 PETROL                 2019   \n",
              "11                       2020 KIA SONET HTK PLUS 1.5                 2020   \n",
              "12          2019 KIA SELTOS GTX 1.4 PETROL DUAL TONE                 2019   \n",
              "13                        2022 KIA SONET HTX 1.0 IMT                 2022   \n",
              "14                            2022 KIA SONET HTK 1.5                 2022   \n",
              "15                        2022 KIA SONET HTX 1.0 IMT                 2022   \n",
              "16                        2022 KIA SONET HTX 1.0 IMT                 2022   \n",
              "17             2020 KIA SELTOS HTX PLUS AT1.5 DIESEL                 2020   \n",
              "18      2022 KIA CARENS LUXURY PLUS 1.4 PETROL 6 STR                 2022   \n",
              "19                    2022 KIA SELTOS HTX PETROL 1.5                 2022   \n",
              "20           2019 KIA SELTOS GTX PLUS DCT 1.4 PETROL                 2019   \n",
              "21   2022 KIA CARENS LUXURY PLUS 1.5 DIESEL AT 6 STR                 2022   \n",
              "22                   2022 KIA SONET GTX PLUS 1.0 IMT                 2022   \n",
              "23                    2021 KIA SELTOS HTX 1.5 PETROL                 2021   \n",
              "24  2022 KIA CARENS LUXURY PLUS 1.4 PETROL DCT 6 STR                 2022   \n",
              "25      2022 KIA CARENS LUXURY PLUS 1.4 PETROL 6 STR                 2022   \n",
              "26      2022 KIA CARENS LUXURY PLUS 1.4 PETROL 6 STR                 2022   \n",
              "27                  2022 KIA SELTOS HTK PLUS 1.5 IMT                 2022   \n",
              "28                       2023 KIA SONET HTK PLUS 1.2                 2023   \n",
              "29                        2022 KIA SONET HTX 1.0 IMT                 2022   \n",
              "30                   2020 KIA SONET HTK PLUS 1.0 IMT                 2020   \n",
              "31                       2020 KIA SONET GTX PLUS 1.5                 2020   \n",
              "\n",
              "   Kilometers Driven Fuel Type Transmission        Price  \n",
              "0          30,964 km    Petrol       Manual  ₹10.02 Lakh  \n",
              "1          36,166 km    Diesel       Manual  ₹11.03 Lakh  \n",
              "2          27,143 km    Petrol       Manual  ₹10.07 Lakh  \n",
              "3           9,526 km    Petrol       Manual  ₹10.60 Lakh  \n",
              "4          35,537 km    Diesel       Manual   ₹8.56 Lakh  \n",
              "5          27,310 km    Petrol    Automatic   ₹9.75 Lakh  \n",
              "6          66,902 km    Diesel    Automatic  ₹19.16 Lakh  \n",
              "7          12,265 km    Petrol       Manual   ₹8.95 Lakh  \n",
              "8          67,883 km    Diesel       Manual   ₹8.70 Lakh  \n",
              "9          82,433 km    Diesel    Automatic  ₹10.36 Lakh  \n",
              "10         24,009 km    Petrol    Automatic  ₹14.78 Lakh  \n",
              "11         64,930 km    Diesel       Manual   ₹8.20 Lakh  \n",
              "12         11,707 km    Petrol       Manual  ₹12.49 Lakh  \n",
              "13         29,811 km    Petrol       Manual  ₹10.59 Lakh  \n",
              "14         23,502 km    Diesel       Manual   ₹9.55 Lakh  \n",
              "15         36,545 km    Petrol       Manual  ₹10.61 Lakh  \n",
              "16         20,224 km    Petrol       Manual   ₹9.82 Lakh  \n",
              "17         89,886 km    Diesel    Automatic  ₹11.59 Lakh  \n",
              "18          9,293 km    Petrol       Manual  ₹13.64 Lakh  \n",
              "19         16,721 km    Petrol       Manual  ₹14.36 Lakh  \n",
              "20         49,161 km    Petrol    Automatic  ₹14.46 Lakh  \n",
              "21         23,444 km    Diesel    Automatic  ₹15.54 Lakh  \n",
              "22         22,717 km    Petrol       Manual  ₹11.96 Lakh  \n",
              "23          9,184 km    Petrol       Manual  ₹12.21 Lakh  \n",
              "24         32,364 km    Petrol    Automatic  ₹15.29 Lakh  \n",
              "25         13,171 km    Petrol       Manual  ₹15.06 Lakh  \n",
              "26         24,315 km    Petrol       Manual  ₹16.09 Lakh  \n",
              "27         14,160 km    Petrol       Manual  ₹12.84 Lakh  \n",
              "28          7,907 km    Petrol       Manual   ₹9.64 Lakh  \n",
              "29         34,198 km    Petrol       Manual  ₹10.27 Lakh  \n",
              "30          2,951 km    Petrol       Manual   ₹8.51 Lakh  \n",
              "31         49,820 km    Diesel       Manual  ₹10.48 Lakh  "
            ]
          },
          "execution_count": 11,
          "metadata": {},
          "output_type": "execute_result"
        }
      ],
      "source": [
        "df"
      ]
    },
    {
      "cell_type": "code",
      "execution_count": 12,
      "metadata": {},
      "outputs": [
        {
          "data": {
            "text/plain": [
              "(32, 6)"
            ]
          },
          "execution_count": 12,
          "metadata": {},
          "output_type": "execute_result"
        }
      ],
      "source": [
        "# Get the shape of the DataFrame\n",
        "df.shape"
      ]
    },
    {
      "cell_type": "code",
      "execution_count": 13,
      "metadata": {},
      "outputs": [
        {
          "name": "stdout",
          "output_type": "stream",
          "text": [
            "Name                   object\n",
            "Year of Manufacture     int64\n",
            "Kilometers Driven      object\n",
            "Fuel Type              object\n",
            "Transmission           object\n",
            "Price                  object\n",
            "dtype: object\n"
          ]
        }
      ],
      "source": [
        "# Prints the data types of the columns in given DataFrame.\n",
        "print(df.dtypes)"
      ]
    },
    {
      "cell_type": "code",
      "execution_count": 14,
      "metadata": {},
      "outputs": [
        {
          "data": {
            "text/html": [
              "<div>\n",
              "<style scoped>\n",
              "    .dataframe tbody tr th:only-of-type {\n",
              "        vertical-align: middle;\n",
              "    }\n",
              "\n",
              "    .dataframe tbody tr th {\n",
              "        vertical-align: top;\n",
              "    }\n",
              "\n",
              "    .dataframe thead th {\n",
              "        text-align: right;\n",
              "    }\n",
              "</style>\n",
              "<table border=\"1\" class=\"dataframe\">\n",
              "  <thead>\n",
              "    <tr style=\"text-align: right;\">\n",
              "      <th></th>\n",
              "      <th>Name</th>\n",
              "      <th>Year of Manufacture</th>\n",
              "      <th>Kilometers Driven</th>\n",
              "      <th>Fuel Type</th>\n",
              "      <th>Transmission</th>\n",
              "      <th>Price</th>\n",
              "    </tr>\n",
              "  </thead>\n",
              "  <tbody>\n",
              "    <tr>\n",
              "      <th>0</th>\n",
              "      <td>2021 KIA SELTOS HTK PLUS 1.5</td>\n",
              "      <td>2021</td>\n",
              "      <td>30,964 km</td>\n",
              "      <td>Petrol</td>\n",
              "      <td>Manual</td>\n",
              "      <td>₹10.02 Lakh</td>\n",
              "    </tr>\n",
              "    <tr>\n",
              "      <th>1</th>\n",
              "      <td>2022 KIA SELTOS HTE 1.5 DIESEL</td>\n",
              "      <td>2022</td>\n",
              "      <td>36,166 km</td>\n",
              "      <td>Diesel</td>\n",
              "      <td>Manual</td>\n",
              "      <td>₹11.03 Lakh</td>\n",
              "    </tr>\n",
              "    <tr>\n",
              "      <th>2</th>\n",
              "      <td>2019 KIA SELTOS HTK PLUS 1.5</td>\n",
              "      <td>2019</td>\n",
              "      <td>27,143 km</td>\n",
              "      <td>Petrol</td>\n",
              "      <td>Manual</td>\n",
              "      <td>₹10.07 Lakh</td>\n",
              "    </tr>\n",
              "    <tr>\n",
              "      <th>3</th>\n",
              "      <td>2022 KIA SONET HTX 1.0 IMT</td>\n",
              "      <td>2022</td>\n",
              "      <td>9,526 km</td>\n",
              "      <td>Petrol</td>\n",
              "      <td>Manual</td>\n",
              "      <td>₹10.60 Lakh</td>\n",
              "    </tr>\n",
              "    <tr>\n",
              "      <th>4</th>\n",
              "      <td>2020 KIA SONET HTK PLUS 1.5</td>\n",
              "      <td>2020</td>\n",
              "      <td>35,537 km</td>\n",
              "      <td>Diesel</td>\n",
              "      <td>Manual</td>\n",
              "      <td>₹8.56 Lakh</td>\n",
              "    </tr>\n",
              "    <tr>\n",
              "      <th>5</th>\n",
              "      <td>2021 KIA SONET HTK PLUS 1.0 DCT</td>\n",
              "      <td>2021</td>\n",
              "      <td>27,310 km</td>\n",
              "      <td>Petrol</td>\n",
              "      <td>Automatic</td>\n",
              "      <td>₹9.75 Lakh</td>\n",
              "    </tr>\n",
              "    <tr>\n",
              "      <th>6</th>\n",
              "      <td>2020 KIA CARNIVAL PREMIUM 2.2 7 STR</td>\n",
              "      <td>2020</td>\n",
              "      <td>66,902 km</td>\n",
              "      <td>Diesel</td>\n",
              "      <td>Automatic</td>\n",
              "      <td>₹19.16 Lakh</td>\n",
              "    </tr>\n",
              "    <tr>\n",
              "      <th>7</th>\n",
              "      <td>2022 KIA SONET HTK PLUS 1.2</td>\n",
              "      <td>2022</td>\n",
              "      <td>12,265 km</td>\n",
              "      <td>Petrol</td>\n",
              "      <td>Manual</td>\n",
              "      <td>₹8.95 Lakh</td>\n",
              "    </tr>\n",
              "    <tr>\n",
              "      <th>8</th>\n",
              "      <td>2020 KIA SONET HTK PLUS 1.5</td>\n",
              "      <td>2020</td>\n",
              "      <td>67,883 km</td>\n",
              "      <td>Diesel</td>\n",
              "      <td>Manual</td>\n",
              "      <td>₹8.70 Lakh</td>\n",
              "    </tr>\n",
              "    <tr>\n",
              "      <th>9</th>\n",
              "      <td>2020 KIA SELTOS HTK PLUS AT 1.5 DIESEL</td>\n",
              "      <td>2020</td>\n",
              "      <td>82,433 km</td>\n",
              "      <td>Diesel</td>\n",
              "      <td>Automatic</td>\n",
              "      <td>₹10.36 Lakh</td>\n",
              "    </tr>\n",
              "  </tbody>\n",
              "</table>\n",
              "</div>"
            ],
            "text/plain": [
              "                                     Name  Year of Manufacture  \\\n",
              "0            2021 KIA SELTOS HTK PLUS 1.5                 2021   \n",
              "1          2022 KIA SELTOS HTE 1.5 DIESEL                 2022   \n",
              "2            2019 KIA SELTOS HTK PLUS 1.5                 2019   \n",
              "3              2022 KIA SONET HTX 1.0 IMT                 2022   \n",
              "4             2020 KIA SONET HTK PLUS 1.5                 2020   \n",
              "5         2021 KIA SONET HTK PLUS 1.0 DCT                 2021   \n",
              "6     2020 KIA CARNIVAL PREMIUM 2.2 7 STR                 2020   \n",
              "7             2022 KIA SONET HTK PLUS 1.2                 2022   \n",
              "8             2020 KIA SONET HTK PLUS 1.5                 2020   \n",
              "9  2020 KIA SELTOS HTK PLUS AT 1.5 DIESEL                 2020   \n",
              "\n",
              "  Kilometers Driven Fuel Type Transmission        Price  \n",
              "0         30,964 km    Petrol       Manual  ₹10.02 Lakh  \n",
              "1         36,166 km    Diesel       Manual  ₹11.03 Lakh  \n",
              "2         27,143 km    Petrol       Manual  ₹10.07 Lakh  \n",
              "3          9,526 km    Petrol       Manual  ₹10.60 Lakh  \n",
              "4         35,537 km    Diesel       Manual   ₹8.56 Lakh  \n",
              "5         27,310 km    Petrol    Automatic   ₹9.75 Lakh  \n",
              "6         66,902 km    Diesel    Automatic  ₹19.16 Lakh  \n",
              "7         12,265 km    Petrol       Manual   ₹8.95 Lakh  \n",
              "8         67,883 km    Diesel       Manual   ₹8.70 Lakh  \n",
              "9         82,433 km    Diesel    Automatic  ₹10.36 Lakh  "
            ]
          },
          "execution_count": 14,
          "metadata": {},
          "output_type": "execute_result"
        }
      ],
      "source": [
        "# first 10 rows of the DataFrame\n",
        "df.head(10)"
      ]
    },
    {
      "cell_type": "code",
      "execution_count": 15,
      "metadata": {},
      "outputs": [
        {
          "data": {
            "text/html": [
              "<div>\n",
              "<style scoped>\n",
              "    .dataframe tbody tr th:only-of-type {\n",
              "        vertical-align: middle;\n",
              "    }\n",
              "\n",
              "    .dataframe tbody tr th {\n",
              "        vertical-align: top;\n",
              "    }\n",
              "\n",
              "    .dataframe thead th {\n",
              "        text-align: right;\n",
              "    }\n",
              "</style>\n",
              "<table border=\"1\" class=\"dataframe\">\n",
              "  <thead>\n",
              "    <tr style=\"text-align: right;\">\n",
              "      <th></th>\n",
              "      <th>Name</th>\n",
              "      <th>Year of Manufacture</th>\n",
              "      <th>Kilometers Driven</th>\n",
              "      <th>Fuel Type</th>\n",
              "      <th>Transmission</th>\n",
              "      <th>Price</th>\n",
              "    </tr>\n",
              "  </thead>\n",
              "  <tbody>\n",
              "    <tr>\n",
              "      <th>count</th>\n",
              "      <td>32</td>\n",
              "      <td>32.000000</td>\n",
              "      <td>32</td>\n",
              "      <td>32</td>\n",
              "      <td>32</td>\n",
              "      <td>32</td>\n",
              "    </tr>\n",
              "    <tr>\n",
              "      <th>unique</th>\n",
              "      <td>23</td>\n",
              "      <td>NaN</td>\n",
              "      <td>32</td>\n",
              "      <td>2</td>\n",
              "      <td>2</td>\n",
              "      <td>32</td>\n",
              "    </tr>\n",
              "    <tr>\n",
              "      <th>top</th>\n",
              "      <td>2022 KIA SONET HTX 1.0 IMT</td>\n",
              "      <td>NaN</td>\n",
              "      <td>30,964 km</td>\n",
              "      <td>Petrol</td>\n",
              "      <td>Manual</td>\n",
              "      <td>₹10.02 Lakh</td>\n",
              "    </tr>\n",
              "    <tr>\n",
              "      <th>freq</th>\n",
              "      <td>5</td>\n",
              "      <td>NaN</td>\n",
              "      <td>1</td>\n",
              "      <td>22</td>\n",
              "      <td>24</td>\n",
              "      <td>1</td>\n",
              "    </tr>\n",
              "    <tr>\n",
              "      <th>mean</th>\n",
              "      <td>NaN</td>\n",
              "      <td>2021.062500</td>\n",
              "      <td>NaN</td>\n",
              "      <td>NaN</td>\n",
              "      <td>NaN</td>\n",
              "      <td>NaN</td>\n",
              "    </tr>\n",
              "    <tr>\n",
              "      <th>std</th>\n",
              "      <td>NaN</td>\n",
              "      <td>1.189673</td>\n",
              "      <td>NaN</td>\n",
              "      <td>NaN</td>\n",
              "      <td>NaN</td>\n",
              "      <td>NaN</td>\n",
              "    </tr>\n",
              "    <tr>\n",
              "      <th>min</th>\n",
              "      <td>NaN</td>\n",
              "      <td>2019.000000</td>\n",
              "      <td>NaN</td>\n",
              "      <td>NaN</td>\n",
              "      <td>NaN</td>\n",
              "      <td>NaN</td>\n",
              "    </tr>\n",
              "    <tr>\n",
              "      <th>25%</th>\n",
              "      <td>NaN</td>\n",
              "      <td>2020.000000</td>\n",
              "      <td>NaN</td>\n",
              "      <td>NaN</td>\n",
              "      <td>NaN</td>\n",
              "      <td>NaN</td>\n",
              "    </tr>\n",
              "    <tr>\n",
              "      <th>50%</th>\n",
              "      <td>NaN</td>\n",
              "      <td>2022.000000</td>\n",
              "      <td>NaN</td>\n",
              "      <td>NaN</td>\n",
              "      <td>NaN</td>\n",
              "      <td>NaN</td>\n",
              "    </tr>\n",
              "    <tr>\n",
              "      <th>75%</th>\n",
              "      <td>NaN</td>\n",
              "      <td>2022.000000</td>\n",
              "      <td>NaN</td>\n",
              "      <td>NaN</td>\n",
              "      <td>NaN</td>\n",
              "      <td>NaN</td>\n",
              "    </tr>\n",
              "    <tr>\n",
              "      <th>max</th>\n",
              "      <td>NaN</td>\n",
              "      <td>2023.000000</td>\n",
              "      <td>NaN</td>\n",
              "      <td>NaN</td>\n",
              "      <td>NaN</td>\n",
              "      <td>NaN</td>\n",
              "    </tr>\n",
              "  </tbody>\n",
              "</table>\n",
              "</div>"
            ],
            "text/plain": [
              "                              Name  Year of Manufacture Kilometers Driven  \\\n",
              "count                           32            32.000000                32   \n",
              "unique                          23                  NaN                32   \n",
              "top     2022 KIA SONET HTX 1.0 IMT                  NaN         30,964 km   \n",
              "freq                             5                  NaN                 1   \n",
              "mean                           NaN          2021.062500               NaN   \n",
              "std                            NaN             1.189673               NaN   \n",
              "min                            NaN          2019.000000               NaN   \n",
              "25%                            NaN          2020.000000               NaN   \n",
              "50%                            NaN          2022.000000               NaN   \n",
              "75%                            NaN          2022.000000               NaN   \n",
              "max                            NaN          2023.000000               NaN   \n",
              "\n",
              "       Fuel Type Transmission        Price  \n",
              "count         32           32           32  \n",
              "unique         2            2           32  \n",
              "top       Petrol       Manual  ₹10.02 Lakh  \n",
              "freq          22           24            1  \n",
              "mean         NaN          NaN          NaN  \n",
              "std          NaN          NaN          NaN  \n",
              "min          NaN          NaN          NaN  \n",
              "25%          NaN          NaN          NaN  \n",
              "50%          NaN          NaN          NaN  \n",
              "75%          NaN          NaN          NaN  \n",
              "max          NaN          NaN          NaN  "
            ]
          },
          "execution_count": 15,
          "metadata": {},
          "output_type": "execute_result"
        }
      ],
      "source": [
        "# Describe the dataframe including all columns\n",
        "df.describe(include = \"all\")"
      ]
    },
    {
      "cell_type": "code",
      "execution_count": 16,
      "metadata": {},
      "outputs": [
        {
          "name": "stdout",
          "output_type": "stream",
          "text": [
            "<class 'pandas.core.frame.DataFrame'>\n",
            "RangeIndex: 32 entries, 0 to 31\n",
            "Data columns (total 6 columns):\n",
            " #   Column               Non-Null Count  Dtype \n",
            "---  ------               --------------  ----- \n",
            " 0   Name                 32 non-null     object\n",
            " 1   Year of Manufacture  32 non-null     int64 \n",
            " 2   Kilometers Driven    32 non-null     object\n",
            " 3   Fuel Type            32 non-null     object\n",
            " 4   Transmission         32 non-null     object\n",
            " 5   Price                32 non-null     object\n",
            "dtypes: int64(1), object(5)\n",
            "memory usage: 1.6+ KB\n"
          ]
        }
      ],
      "source": [
        "# Prints information about the given DataFrame\n",
        "df.info()"
      ]
    },
    {
      "cell_type": "code",
      "execution_count": 17,
      "metadata": {},
      "outputs": [
        {
          "data": {
            "text/plain": [
              "Fuel Type\n",
              "Petrol    22\n",
              "Diesel    10\n",
              "Name: count, dtype: int64"
            ]
          },
          "execution_count": 17,
          "metadata": {},
          "output_type": "execute_result"
        }
      ],
      "source": [
        "# count of each fuel type in the given dataframe.\n",
        "df['Fuel Type'].value_counts()"
      ]
    },
    {
      "cell_type": "code",
      "execution_count": 18,
      "metadata": {},
      "outputs": [
        {
          "data": {
            "text/plain": [
              "Transmission\n",
              "Manual       24\n",
              "Automatic     8\n",
              "Name: count, dtype: int64"
            ]
          },
          "execution_count": 18,
          "metadata": {},
          "output_type": "execute_result"
        }
      ],
      "source": [
        "df['Transmission'].value_counts()"
      ]
    },
    {
      "cell_type": "code",
      "execution_count": 19,
      "metadata": {},
      "outputs": [
        {
          "data": {
            "text/plain": [
              "array([2021, 2022, 2019, 2020, 2023])"
            ]
          },
          "execution_count": 19,
          "metadata": {},
          "output_type": "execute_result"
        }
      ],
      "source": [
        "df['Year of Manufacture'].unique()"
      ]
    },
    {
      "cell_type": "code",
      "execution_count": 20,
      "metadata": {},
      "outputs": [
        {
          "data": {
            "text/plain": [
              "Name                   False\n",
              "Year of Manufacture    False\n",
              "Kilometers Driven      False\n",
              "Fuel Type              False\n",
              "Transmission           False\n",
              "Price                  False\n",
              "dtype: bool"
            ]
          },
          "execution_count": 20,
          "metadata": {},
          "output_type": "execute_result"
        }
      ],
      "source": [
        "df.isnull().sum()\n",
        "df.isna().any()"
      ]
    },
    {
      "cell_type": "code",
      "execution_count": 21,
      "metadata": {},
      "outputs": [
        {
          "name": "stdout",
          "output_type": "stream",
          "text": [
            "Numerical variables: ['Year of Manufacture']\n",
            "Categorical variables: ['Name', 'Kilometers Driven', 'Fuel Type', 'Transmission', 'Price']\n"
          ]
        }
      ],
      "source": [
        "numerical_vars = df.select_dtypes(include=['int64', 'float64']).columns.tolist()\n",
        "categorical_vars = df.select_dtypes(include=['object']).columns.tolist()                           \n",
        "print('Numerical variables:', numerical_vars)\n",
        "print('Categorical variables:', categorical_vars)"
      ]
    },
    {
      "cell_type": "code",
      "execution_count": 22,
      "metadata": {},
      "outputs": [
        {
          "name": "stdout",
          "output_type": "stream",
          "text": [
            "Number of categorical variables: 5\n",
            "Number of numerical variables: 1\n"
          ]
        }
      ],
      "source": [
        "# Count the number of categorical and numerical variables\n",
        "categorical_count = df.select_dtypes(include='object').shape[1]\n",
        "numerical_count = df.select_dtypes(exclude='object').shape[1]\n",
        "\n",
        "print(f\"Number of categorical variables: {categorical_count}\")\n",
        "print(f\"Number of numerical variables: {numerical_count}\")"
      ]
    },
    {
      "cell_type": "code",
      "execution_count": 23,
      "metadata": {},
      "outputs": [
        {
          "data": {
            "text/plain": [
              "np.int64(0)"
            ]
          },
          "execution_count": 23,
          "metadata": {},
          "output_type": "execute_result"
        }
      ],
      "source": [
        "df.duplicated().sum()"
      ]
    },
    {
      "cell_type": "code",
      "execution_count": 24,
      "metadata": {},
      "outputs": [
        {
          "data": {
            "text/plain": [
              "Index(['Name', 'Year of Manufacture', 'Kilometers Driven', 'Fuel Type',\n",
              "       'Transmission', 'Price'],\n",
              "      dtype='object')"
            ]
          },
          "execution_count": 24,
          "metadata": {},
          "output_type": "execute_result"
        }
      ],
      "source": [
        "df.columns"
      ]
    },
    {
      "cell_type": "code",
      "execution_count": 25,
      "metadata": {},
      "outputs": [
        {
          "data": {
            "image/png": "[encoded data removed]",
            "text/plain": [
              "<Figure size 1000x600 with 1 Axes>"
            ]
          },
          "metadata": {},
          "output_type": "display_data"
        }
      ],
      "source": [
        "fuel_counts = df['Fuel Type'].value_counts().tolist()\n",
        "labels = [\"Petrol\",\"Diesel\"]\n",
        "\n",
        "plt.figure(figsize=(10, 6))\n",
        "plt.pie(fuel_counts, labels=labels, autopct='%1.1f%%' , colors=['green','red'])\n",
        "plt.title('Distributuin of cars by fuel type \\n')\n",
        "plt.axis('equal')\n",
        "plt.show()"
      ]
    },
    {
      "cell_type": "code",
      "execution_count": 26,
      "metadata": {},
      "outputs": [
        {
          "data": {
            "image/png": "[encoded data removed]",
            "text/plain": [
              "<Figure size 1000x600 with 1 Axes>"
            ]
          },
          "metadata": {},
          "output_type": "display_data"
        }
      ],
      "source": [
        "transmission_counts = df['Transmission'].value_counts()\n",
        "labels = [\"Manual\",\"Automatic\"]\n",
        "\n",
        "plt.figure(figsize=(10, 6))\n",
        "plt.pie(transmission_counts, labels=labels, autopct='%1.1f%%' , colors=['blue','yellow'])\n",
        "plt.title('Distributuin of cars by transmission \\n')\n",
        "plt.axis('equal')\n",
        "plt.show()"
      ]
    },
    {
      "cell_type": "code",
      "execution_count": 27,
      "metadata": {},
      "outputs": [
        {
          "data": {
            "text/plain": [
              "Text(0, 0.5, 'Count')"
            ]
          },
          "execution_count": 27,
          "metadata": {},
          "output_type": "execute_result"
        },
        {
          "data": {
            "image/png": "[encoded data removed]",
            "text/plain": [
              "<Figure size 1000x600 with 1 Axes>"
            ]
          },
          "metadata": {},
          "output_type": "display_data"
        }
      ],
      "source": [
        "plt.figure(figsize=(10, 6))\n",
        "sns.countplot(x='Year of Manufacture', data=df)\n",
        "plt.title('Distribution of Manufacturing Years')\n",
        "plt.xlabel('Year of Manufacture')\n",
        "plt.ylabel('Count')"
      ]
    },
    {
      "cell_type": "code",
      "execution_count": 28,
      "metadata": {},
      "outputs": [
        {
          "data": {
            "text/plain": [
              "Text(0, 0.5, 'Count')"
            ]
          },
          "execution_count": 28,
          "metadata": {},
          "output_type": "execute_result"
        },
        {
          "data": {
            "image/png": "[encoded data removed]",
            "text/plain": [
              "<Figure size 800x600 with 1 Axes>"
            ]
          },
          "metadata": {},
          "output_type": "display_data"
        }
      ],
      "source": [
        "plt.figure(figsize=(8, 6))\n",
        "df['Transmission'].value_counts().plot(kind='bar')\n",
        "plt.title('Distribution of Transmission Types')\n",
        "plt.xlabel('Transmission Type')\n",
        "plt.ylabel('Count')"
      ]
    },
    {
      "cell_type": "code",
      "execution_count": 29,
      "metadata": {},
      "outputs": [],
      "source": [
        "df['Price'] = df['Price'].str.replace('₹', '').str.replace('Lakh', '').astype(float)\n"
      ]
    },
    {
      "cell_type": "code",
      "execution_count": 30,
      "metadata": {},
      "outputs": [],
      "source": [
        "df['Kilometers Driven'] = df['Kilometers Driven'].str.replace(' km', '').str.replace(',', '').astype(int)"
      ]
    },
    {
      "cell_type": "code",
      "execution_count": 31,
      "metadata": {},
      "outputs": [
        {
          "data": {
            "text/plain": [
              "Text(0, 0.5, 'Price (Lakh ₹)')"
            ]
          },
          "execution_count": 31,
          "metadata": {},
          "output_type": "execute_result"
        },
        {
          "data": {
            "image/png": "[encoded data removed]",
            "text/plain": [
              "<Figure size 1200x800 with 1 Axes>"
            ]
          },
          "metadata": {},
          "output_type": "display_data"
        }
      ],
      "source": [
        "plt.figure(figsize=(12, 8))\n",
        "sns.scatterplot(data=df, x='Kilometers Driven', y='Price', hue='Fuel Type')\n",
        "plt.title('Price vs Kilometers Driven by Fuel Type')\n",
        "plt.xlabel('Kilometers Driven')\n",
        "plt.ylabel('Price (Lakh ₹)')"
      ]
    },
    {
      "cell_type": "code",
      "execution_count": null,
      "metadata": {},
      "outputs": [],
      "source": []
    }
  ],
  "metadata": {
    "colab": {
      "provenance": []
    },
    "kernelspec": {
      "display_name": "Python 3",
      "name": "python3"
    },
    "language_info": {
      "codemirror_mode": {
        "name": "ipython",
        "version": 3
      },
      "file_extension": ".py",
      "mimetype": "text/x-python",
      "name": "python",
      "nbconvert_exporter": "python",
      "pygments_lexer": "ipython3",
      "version": "3.12.4"
    }
  },
  "nbformat": 4,
  "nbformat_minor": 0
}
